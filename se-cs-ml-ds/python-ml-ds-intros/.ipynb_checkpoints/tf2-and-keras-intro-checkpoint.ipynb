{
 "cells": [
  {
   "cell_type": "markdown",
   "metadata": {
    "colab_type": "text",
    "id": "E0IqdiLsqtVQ"
   },
   "source": [
    "**TF Intro** [WIP]\n"
   ]
  },
  {
   "cell_type": "markdown",
   "metadata": {
    "colab_type": "text",
    "id": "RvCOSpM-rKyx"
   },
   "source": [
    "Official docs are organized in a really confusing way (or maybe just targeted at an entirely different audience than \"software engineers getting started with machine learning\"...).\n",
    "\n",
    "**Getting started tutorials** - very basic use-case examples, no good explanation of core concepts:\n",
    "- https://www.tensorflow.org/tutorials\n",
    "- https://www.tensorflow.org/tutorials/quickstart/beginner\n",
    "- https://www.tensorflow.org/tutorials/quickstart/advanced\n",
    "\n",
    "Some good (better, I'd say!) 3rd party intro tutorials:\n",
    "- https://sanjayasubedi.com.np/deeplearning/tensorflow-2-first-neural-network-for-fashion-mnist/\n",
    "- https://sanjayasubedi.com.np/deeplearning/tensorflow-2-first-neural-network-for-fashion-mnist/\n",
    "- https://sanjayasubedi.com.np/deeplearning/keras-example-cnn-with-fashion-mnist-dataset/\n",
    "\n",
    "**Guides** - more advanced examples & some explanations of the core concepts and architecture:\n",
    "- https://www.tensorflow.org/guide\n",
    "- https://www.tensorflow.org/guide/effective_tf2 - **might want to start here**\n",
    "- https://www.tensorflow.org/guide/keras/overview - \n",
    "- https://www.tensorflow.org/guide/data - **you MUST understand this!**\n",
    "\n",
    "**\"Customization\" part of guides** - depite being thoroughly misnamed (it's not about \"costomizaing the framework\"or whatever) **THIS is actually where lots of medium-advanced TF concepts are actually explained!**\n",
    "\n",
    "**Best conceptual dicussion of what and why of TF \"eager mode\" vs. \"graph mode\"** - one of the core usability improvements from TF 1 to TF 2 (**read this even if you never used TF 1 before... the TF 2 docs skip on a lot of core graph computation concepts that you'll see used in real world code!**):\n",
    "- https://github.com/tensorflow/community/blob/master/rfcs/20180918-functions-not-sessions-20.md\n",
    "\n",
    "**API docs:** https://www.tensorflow.org/api_docs/python/tf\n",
    "\n",
    "**TWO** high level interfaces:\n",
    "\n",
    "- **Keras** - the currently preferred higher level interface: https://www.tensorflow.org/guide/keras/overview\n",
    "  - Keras was originally a multi-backend ML-Deep-Learning frameork (could use as \"backend\" TF, Theano etc.)\n",
    "  - current version of Keras was merged into TF (and developemnt of alternative backends support abandoned)\n",
    "- **Estimators** - this is the \"old\" high level TF interface - still maintained (apparently bc. it's being used in production inside google), and used as preferred high-level models format by some TF-related infra (and there are tools to convert eg. Keras models into Estimators)\n",
    "  - https://www.tensorflow.org/tutorials/estimator/premade\n",
    "  - https://www.tensorflow.org/guide/estimator"
   ]
  },
  {
   "cell_type": "markdown",
   "metadata": {
    "colab_type": "text",
    "id": "dSsvIMVaq5Ka"
   },
   "source": [
    "# Environment / Imports"
   ]
  },
  {
   "cell_type": "code",
   "execution_count": 3,
   "metadata": {
    "colab": {},
    "colab_type": "code",
    "id": "Go9cZu-wp8_y"
   },
   "outputs": [],
   "source": [
    "import functools\n",
    "\n",
    "import IPython.display\n",
    "from IPython.display import display\n",
    "\n",
    "import numpy as np\n",
    "import pandas as pd\n",
    "import matplotlib.pyplot as plt\n",
    "\n",
    "import tensorflow as tf\n",
    "import tensorflow.keras as keras\n",
    "# import tensorflow_hub as hub"
   ]
  },
  {
   "cell_type": "code",
   "execution_count": 2,
   "metadata": {
    "colab": {},
    "colab_type": "code",
    "id": "3VYLSfRQ5LpF"
   },
   "outputs": [],
   "source": [
    "# simple decorator to allow incremental building of classes by adding methods\n",
    "# in multiple notebooks cells\n",
    "def add_to_class(klass):\n",
    "    \"\"\"\n",
    "    Usage\n",
    "    -----\n",
    "    >>> @add_to_class(MyModel)\n",
    "    ... def train(self, x, y):\n",
    "    ...     ...\n",
    "    \"\"\"\n",
    "    def decorator(fn): \n",
    "        setattr(klass, fn.__name__, fn)\n",
    "        return fn\n",
    "    return decorator"
   ]
  },
  {
   "cell_type": "markdown",
   "metadata": {
    "colab_type": "text",
    "id": "y5Cpwly1szlZ",
    "toc-hr-collapsed": true
   },
   "source": [
    "# Data to play with"
   ]
  },
  {
   "cell_type": "markdown",
   "metadata": {
    "colab_type": "text",
    "id": "Mf82CphDs5j0"
   },
   "source": [
    "## Regression data"
   ]
  },
  {
   "cell_type": "markdown",
   "metadata": {
    "colab_type": "text",
    "id": "PN3t9RX1ua5i"
   },
   "source": [
    "Auto MPG dataset - we'll predict fuel consumption from other car parameters"
   ]
  },
  {
   "cell_type": "code",
   "execution_count": 3,
   "metadata": {
    "colab": {
     "base_uri": "https://localhost:8080/",
     "height": 756
    },
    "colab_type": "code",
    "executionInfo": {
     "elapsed": 2698,
     "status": "ok",
     "timestamp": 1585819639710,
     "user": {
      "displayName": "Andrei Anton",
      "photoUrl": "https://lh3.googleusercontent.com/a-/AOh14Gjbq3KjN_eAXXgUdNCh6B78VUwJtCXErh4e5nyHVA=s64",
      "userId": "02387618609628811558"
     },
     "user_tz": -180
    },
    "id": "hnSIo8KUqmL9",
    "outputId": "53bc99fe-23a9-420e-e4be-21de29116e17"
   },
   "outputs": [
    {
     "data": {
      "text/html": [
       "<div>\n",
       "<style scoped>\n",
       "    .dataframe tbody tr th:only-of-type {\n",
       "        vertical-align: middle;\n",
       "    }\n",
       "\n",
       "    .dataframe tbody tr th {\n",
       "        vertical-align: top;\n",
       "    }\n",
       "\n",
       "    .dataframe thead th {\n",
       "        text-align: right;\n",
       "    }\n",
       "</style>\n",
       "<table border=\"1\" class=\"dataframe\">\n",
       "  <thead>\n",
       "    <tr style=\"text-align: right;\">\n",
       "      <th></th>\n",
       "      <th>MPG</th>\n",
       "      <th>Cylinders</th>\n",
       "      <th>Displacement</th>\n",
       "      <th>Horsepower</th>\n",
       "      <th>Weight</th>\n",
       "      <th>Acceleration</th>\n",
       "      <th>Model Year</th>\n",
       "      <th>Origin</th>\n",
       "    </tr>\n",
       "  </thead>\n",
       "  <tbody>\n",
       "    <tr>\n",
       "      <th>393</th>\n",
       "      <td>27.0</td>\n",
       "      <td>4</td>\n",
       "      <td>140.0</td>\n",
       "      <td>86.0</td>\n",
       "      <td>2790.0</td>\n",
       "      <td>15.6</td>\n",
       "      <td>82</td>\n",
       "      <td>1</td>\n",
       "    </tr>\n",
       "    <tr>\n",
       "      <th>394</th>\n",
       "      <td>44.0</td>\n",
       "      <td>4</td>\n",
       "      <td>97.0</td>\n",
       "      <td>52.0</td>\n",
       "      <td>2130.0</td>\n",
       "      <td>24.6</td>\n",
       "      <td>82</td>\n",
       "      <td>2</td>\n",
       "    </tr>\n",
       "    <tr>\n",
       "      <th>395</th>\n",
       "      <td>32.0</td>\n",
       "      <td>4</td>\n",
       "      <td>135.0</td>\n",
       "      <td>84.0</td>\n",
       "      <td>2295.0</td>\n",
       "      <td>11.6</td>\n",
       "      <td>82</td>\n",
       "      <td>1</td>\n",
       "    </tr>\n",
       "    <tr>\n",
       "      <th>396</th>\n",
       "      <td>28.0</td>\n",
       "      <td>4</td>\n",
       "      <td>120.0</td>\n",
       "      <td>79.0</td>\n",
       "      <td>2625.0</td>\n",
       "      <td>18.6</td>\n",
       "      <td>82</td>\n",
       "      <td>1</td>\n",
       "    </tr>\n",
       "    <tr>\n",
       "      <th>397</th>\n",
       "      <td>31.0</td>\n",
       "      <td>4</td>\n",
       "      <td>119.0</td>\n",
       "      <td>82.0</td>\n",
       "      <td>2720.0</td>\n",
       "      <td>19.4</td>\n",
       "      <td>82</td>\n",
       "      <td>1</td>\n",
       "    </tr>\n",
       "  </tbody>\n",
       "</table>\n",
       "</div>"
      ],
      "text/plain": [
       "      MPG  Cylinders  Displacement  Horsepower  Weight  Acceleration  \\\n",
       "393  27.0          4         140.0        86.0  2790.0          15.6   \n",
       "394  44.0          4          97.0        52.0  2130.0          24.6   \n",
       "395  32.0          4         135.0        84.0  2295.0          11.6   \n",
       "396  28.0          4         120.0        79.0  2625.0          18.6   \n",
       "397  31.0          4         119.0        82.0  2720.0          19.4   \n",
       "\n",
       "     Model Year  Origin  \n",
       "393          82       1  \n",
       "394          82       2  \n",
       "395          82       1  \n",
       "396          82       1  \n",
       "397          82       1  "
      ]
     },
     "metadata": {},
     "output_type": "display_data"
    },
    {
     "name": "stdout",
     "output_type": "stream",
     "text": [
      "<class 'pandas.core.frame.DataFrame'>\n",
      "RangeIndex: 398 entries, 0 to 397\n",
      "Data columns (total 8 columns):\n",
      " #   Column        Non-Null Count  Dtype  \n",
      "---  ------        --------------  -----  \n",
      " 0   MPG           398 non-null    float64\n",
      " 1   Cylinders     398 non-null    int64  \n",
      " 2   Displacement  398 non-null    float64\n",
      " 3   Horsepower    392 non-null    float64\n",
      " 4   Weight        398 non-null    float64\n",
      " 5   Acceleration  398 non-null    float64\n",
      " 6   Model Year    398 non-null    int64  \n",
      " 7   Origin        398 non-null    int64  \n",
      "dtypes: float64(5), int64(3)\n",
      "memory usage: 25.0 KB\n"
     ]
    },
    {
     "data": {
      "text/plain": [
       "None"
      ]
     },
     "metadata": {},
     "output_type": "display_data"
    },
    {
     "data": {
      "text/html": [
       "<div>\n",
       "<style scoped>\n",
       "    .dataframe tbody tr th:only-of-type {\n",
       "        vertical-align: middle;\n",
       "    }\n",
       "\n",
       "    .dataframe tbody tr th {\n",
       "        vertical-align: top;\n",
       "    }\n",
       "\n",
       "    .dataframe thead th {\n",
       "        text-align: right;\n",
       "    }\n",
       "</style>\n",
       "<table border=\"1\" class=\"dataframe\">\n",
       "  <thead>\n",
       "    <tr style=\"text-align: right;\">\n",
       "      <th></th>\n",
       "      <th>count</th>\n",
       "      <th>mean</th>\n",
       "      <th>std</th>\n",
       "      <th>min</th>\n",
       "      <th>25%</th>\n",
       "      <th>50%</th>\n",
       "      <th>75%</th>\n",
       "      <th>max</th>\n",
       "    </tr>\n",
       "  </thead>\n",
       "  <tbody>\n",
       "    <tr>\n",
       "      <th>MPG</th>\n",
       "      <td>398.0</td>\n",
       "      <td>23.514573</td>\n",
       "      <td>7.815984</td>\n",
       "      <td>9.0</td>\n",
       "      <td>17.500</td>\n",
       "      <td>23.0</td>\n",
       "      <td>29.000</td>\n",
       "      <td>46.6</td>\n",
       "    </tr>\n",
       "    <tr>\n",
       "      <th>Cylinders</th>\n",
       "      <td>398.0</td>\n",
       "      <td>5.454774</td>\n",
       "      <td>1.701004</td>\n",
       "      <td>3.0</td>\n",
       "      <td>4.000</td>\n",
       "      <td>4.0</td>\n",
       "      <td>8.000</td>\n",
       "      <td>8.0</td>\n",
       "    </tr>\n",
       "    <tr>\n",
       "      <th>Displacement</th>\n",
       "      <td>398.0</td>\n",
       "      <td>193.425879</td>\n",
       "      <td>104.269838</td>\n",
       "      <td>68.0</td>\n",
       "      <td>104.250</td>\n",
       "      <td>148.5</td>\n",
       "      <td>262.000</td>\n",
       "      <td>455.0</td>\n",
       "    </tr>\n",
       "    <tr>\n",
       "      <th>Horsepower</th>\n",
       "      <td>392.0</td>\n",
       "      <td>104.469388</td>\n",
       "      <td>38.491160</td>\n",
       "      <td>46.0</td>\n",
       "      <td>75.000</td>\n",
       "      <td>93.5</td>\n",
       "      <td>126.000</td>\n",
       "      <td>230.0</td>\n",
       "    </tr>\n",
       "    <tr>\n",
       "      <th>Weight</th>\n",
       "      <td>398.0</td>\n",
       "      <td>2970.424623</td>\n",
       "      <td>846.841774</td>\n",
       "      <td>1613.0</td>\n",
       "      <td>2223.750</td>\n",
       "      <td>2803.5</td>\n",
       "      <td>3608.000</td>\n",
       "      <td>5140.0</td>\n",
       "    </tr>\n",
       "    <tr>\n",
       "      <th>Acceleration</th>\n",
       "      <td>398.0</td>\n",
       "      <td>15.568090</td>\n",
       "      <td>2.757689</td>\n",
       "      <td>8.0</td>\n",
       "      <td>13.825</td>\n",
       "      <td>15.5</td>\n",
       "      <td>17.175</td>\n",
       "      <td>24.8</td>\n",
       "    </tr>\n",
       "    <tr>\n",
       "      <th>Model Year</th>\n",
       "      <td>398.0</td>\n",
       "      <td>76.010050</td>\n",
       "      <td>3.697627</td>\n",
       "      <td>70.0</td>\n",
       "      <td>73.000</td>\n",
       "      <td>76.0</td>\n",
       "      <td>79.000</td>\n",
       "      <td>82.0</td>\n",
       "    </tr>\n",
       "    <tr>\n",
       "      <th>Origin</th>\n",
       "      <td>398.0</td>\n",
       "      <td>1.572864</td>\n",
       "      <td>0.802055</td>\n",
       "      <td>1.0</td>\n",
       "      <td>1.000</td>\n",
       "      <td>1.0</td>\n",
       "      <td>2.000</td>\n",
       "      <td>3.0</td>\n",
       "    </tr>\n",
       "  </tbody>\n",
       "</table>\n",
       "</div>"
      ],
      "text/plain": [
       "              count         mean         std     min       25%     50%  \\\n",
       "MPG           398.0    23.514573    7.815984     9.0    17.500    23.0   \n",
       "Cylinders     398.0     5.454774    1.701004     3.0     4.000     4.0   \n",
       "Displacement  398.0   193.425879  104.269838    68.0   104.250   148.5   \n",
       "Horsepower    392.0   104.469388   38.491160    46.0    75.000    93.5   \n",
       "Weight        398.0  2970.424623  846.841774  1613.0  2223.750  2803.5   \n",
       "Acceleration  398.0    15.568090    2.757689     8.0    13.825    15.5   \n",
       "Model Year    398.0    76.010050    3.697627    70.0    73.000    76.0   \n",
       "Origin        398.0     1.572864    0.802055     1.0     1.000     1.0   \n",
       "\n",
       "                   75%     max  \n",
       "MPG             29.000    46.6  \n",
       "Cylinders        8.000     8.0  \n",
       "Displacement   262.000   455.0  \n",
       "Horsepower     126.000   230.0  \n",
       "Weight        3608.000  5140.0  \n",
       "Acceleration    17.175    24.8  \n",
       "Model Year      79.000    82.0  \n",
       "Origin           2.000     3.0  "
      ]
     },
     "execution_count": 3,
     "metadata": {},
     "output_type": "execute_result"
    }
   ],
   "source": [
    "# fetch CSV data\n",
    "regr_dataset_path = keras.utils.get_file(\n",
    "    \"auto-mpg.data\",\n",
    "    \"http://archive.ics.uci.edu/ml/machine-learning-databases/auto-mpg/auto-mpg.data\")\n",
    "regr_dataset_path\n",
    "\n",
    "# load into a Pandas DataFrame\n",
    "regr_column_names = ['MPG','Cylinders','Displacement','Horsepower','Weight',\n",
    "                     'Acceleration', 'Model Year', 'Origin']\n",
    "regr_raw_dataset = pd.read_csv(\n",
    "    regr_dataset_path, names=regr_column_names,\n",
    "    na_values=\"?\", comment='\\t',\n",
    "    sep=\" \", skipinitialspace=True)\n",
    "\n",
    "# take a look at the data\n",
    "regr_dataset = regr_raw_dataset.copy()\n",
    "display(regr_dataset.tail())\n",
    "display(regr_dataset.info())\n",
    "regr_dataset.describe().T"
   ]
  },
  {
   "cell_type": "code",
   "execution_count": 4,
   "metadata": {
    "colab": {},
    "colab_type": "code",
    "id": "S1vBp8KksZoC"
   },
   "outputs": [],
   "source": [
    "# since only a few rows have missing data, just drop them\n",
    "regr_dataset.dropna(inplace=True)\n",
    "# regr_dataset.info()"
   ]
  },
  {
   "cell_type": "code",
   "execution_count": 5,
   "metadata": {
    "colab": {
     "base_uri": "https://localhost:8080/",
     "height": 34
    },
    "colab_type": "code",
    "executionInfo": {
     "elapsed": 2688,
     "status": "ok",
     "timestamp": 1585819639711,
     "user": {
      "displayName": "Andrei Anton",
      "photoUrl": "https://lh3.googleusercontent.com/a-/AOh14Gjbq3KjN_eAXXgUdNCh6B78VUwJtCXErh4e5nyHVA=s64",
      "userId": "02387618609628811558"
     },
     "user_tz": -180
    },
    "id": "1KhwiHfMsn5E",
    "outputId": "2fe9c716-210b-4525-f33a-3b51049bcbfd"
   },
   "outputs": [
    {
     "data": {
      "text/plain": [
       "((392,), (392, 7))"
      ]
     },
     "execution_count": 5,
     "metadata": {},
     "output_type": "execute_result"
    }
   ],
   "source": [
    "regr_y = regr_dataset.pop('MPG')\n",
    "regr_y.shape, regr_dataset.shape"
   ]
  },
  {
   "cell_type": "markdown",
   "metadata": {
    "colab_type": "text",
    "id": "GRclMVI-uEuD"
   },
   "source": [
    "# TF LR from scratch example\n",
    "\n",
    "This is just to introduce TF 2, has no practical usefulness - eg. you'd solve this with basic (linear) algebra, not with machine-learning and gradient-descent 😀\n",
    "\n",
    "Inspired by: https://sanjayasubedi.com.np/deeplearning/tensorflow-2-linear-regression-from-scratch/"
   ]
  },
  {
   "cell_type": "code",
   "execution_count": 6,
   "metadata": {
    "colab": {
     "base_uri": "https://localhost:8080/",
     "height": 265
    },
    "colab_type": "code",
    "executionInfo": {
     "elapsed": 3691,
     "status": "ok",
     "timestamp": 1585819640719,
     "user": {
      "displayName": "Andrei Anton",
      "photoUrl": "https://lh3.googleusercontent.com/a-/AOh14Gjbq3KjN_eAXXgUdNCh6B78VUwJtCXErh4e5nyHVA=s64",
      "userId": "02387618609628811558"
     },
     "user_tz": -180
    },
    "id": "-EI6ibtNzdVs",
    "outputId": "beed5b8e-e06d-48b9-cba1-4bd8348e6f8e"
   },
   "outputs": [
    {
     "data": {
      "image/png": "[encoded data removed]",
      "text/plain": [
       "<Figure size 432x288 with 1 Axes>"
      ]
     },
     "metadata": {
      "needs_background": "light"
     },
     "output_type": "display_data"
    }
   ],
   "source": [
    "## generate some data\n",
    "TRUE_W = 3.0\n",
    "TRUE_B = 0.5\n",
    "NUM_POINTS = 1000\n",
    "\n",
    "x = tf.random.normal(shape=(NUM_POINTS,))  # : tf.Tensor (eager)\n",
    "noise = tf.random.normal((NUM_POINTS,), stddev=1.5)\n",
    "y = x * TRUE_W + TRUE_B + noise\n",
    "\n",
    "plt.scatter(x, y, alpha=0.5);"
   ]
  },
  {
   "cell_type": "code",
   "execution_count": 7,
   "metadata": {
    "colab": {
     "base_uri": "https://localhost:8080/",
     "height": 102
    },
    "colab_type": "code",
    "executionInfo": {
     "elapsed": 3688,
     "status": "ok",
     "timestamp": 1585819640720,
     "user": {
      "displayName": "Andrei Anton",
      "photoUrl": "https://lh3.googleusercontent.com/a-/AOh14Gjbq3KjN_eAXXgUdNCh6B78VUwJtCXErh4e5nyHVA=s64",
      "userId": "02387618609628811558"
     },
     "user_tz": -180
    },
    "id": "ptABKGw8z5lW",
    "outputId": "627cc6e2-2466-4bc5-8535-b17b4f4de520"
   },
   "outputs": [
    {
     "data": {
      "text/plain": [
       "(tensorflow.python.framework.ops.EagerTensor,\n",
       " (1000,),\n",
       " tf.float32,\n",
       " -0.44927942752838135,\n",
       " <tf.Tensor: shape=(), dtype=float32, numpy=-0.44927943>)"
      ]
     },
     "execution_count": 7,
     "metadata": {},
     "output_type": "execute_result"
    }
   ],
   "source": [
    "# above \"just works\" because in eager mode (default for TF 2.0):\n",
    "# - you can simply get the actual value (and shape, and dtype) of a tensor\n",
    "#   by just calling `.numpy()` method\n",
    "# - accessing tensors by index and casting to basic Python & Numpy types\n",
    "#   also \"just works\" in eager mode\n",
    "# - hence, for most practical purposes, `tf.Tensor` values behave as Numpy\n",
    "#   array and can be used wherever such arrays are expected (like in\n",
    "#   pyplot functions)\n",
    "type(x), tuple(x.shape), x.dtype, float(x[0]), x[0]\n",
    "# IMPORTANT: the above would not work in \"graph mode\", only in eager mode"
   ]
  },
  {
   "cell_type": "code",
   "execution_count": 8,
   "metadata": {},
   "outputs": [
    {
     "data": {
      "text/plain": [
       "-0.44927943"
      ]
     },
     "execution_count": 8,
     "metadata": {},
     "output_type": "execute_result"
    }
   ],
   "source": [
    "x[0].numpy()"
   ]
  },
  {
   "cell_type": "code",
   "execution_count": 9,
   "metadata": {
    "colab": {},
    "colab_type": "code",
    "id": "QNt1BCxU1mnN"
   },
   "outputs": [],
   "source": [
    "class Model:\n",
    "    def __init__(self):\n",
    "        self.w = tf.Variable(16.0)\n",
    "        self.b = tf.Variable(10.0)\n",
    "    \n",
    "    def predict(self, x):\n",
    "        return self.w * x + self.b\n",
    "    \n",
    "    ..."
   ]
  },
  {
   "cell_type": "code",
   "execution_count": 10,
   "metadata": {
    "colab": {
     "base_uri": "https://localhost:8080/",
     "height": 282
    },
    "colab_type": "code",
    "executionInfo": {
     "elapsed": 3679,
     "status": "ok",
     "timestamp": 1585819640721,
     "user": {
      "displayName": "Andrei Anton",
      "photoUrl": "https://lh3.googleusercontent.com/a-/AOh14Gjbq3KjN_eAXXgUdNCh6B78VUwJtCXErh4e5nyHVA=s64",
      "userId": "02387618609628811558"
     },
     "user_tz": -180
    },
    "id": "OH7ss4au1x9A",
    "outputId": "fcee0b20-00a4-4bf1-851e-8f93cf19a6e8"
   },
   "outputs": [
    {
     "data": {
      "text/plain": [
       "<matplotlib.collections.PathCollection at 0x7f957842b650>"
      ]
     },
     "execution_count": 10,
     "metadata": {},
     "output_type": "execute_result"
    },
    {
     "data": {
      "image/png": "[encoded data removed]",
      "text/plain": [
       "<Figure size 432x288 with 1 Axes>"
      ]
     },
     "metadata": {
      "needs_background": "light"
     },
     "output_type": "display_data"
    }
   ],
   "source": [
    "model = Model()\n",
    "\n",
    "y_pred0 = model.predict(x)\n",
    "\n",
    "plt.scatter(x, y, alpha=0.5)\n",
    "plt.scatter(x, y_pred0, alpha=0.5)"
   ]
  },
  {
   "cell_type": "code",
   "execution_count": 11,
   "metadata": {
    "colab": {},
    "colab_type": "code",
    "id": "c79dHMWS7Wdh"
   },
   "outputs": [],
   "source": [
    "def loss_fn(y_pred, y_true):\n",
    "    return tf.reduce_mean(tf.square(y_true - y_pred))"
   ]
  },
  {
   "cell_type": "code",
   "execution_count": 12,
   "metadata": {
    "colab": {},
    "colab_type": "code",
    "id": "-GQ1bwW43rJV"
   },
   "outputs": [],
   "source": [
    "@add_to_class(Model)\n",
    "def fit_epoch(self, x, y_true, *, lr):\n",
    "\n",
    "    with tf.GradientTape() as t:\n",
    "        y_pred = self.predict(x)\n",
    "        loss_val = loss_fn(y_pred, y_true)\n",
    "\n",
    "    dw, db = t.gradient(loss_val, [self.w, self.b])\n",
    "\n",
    "    self.w.assign_sub(lr * dw)\n",
    "    self.b.assign_sub(lr * db)\n",
    "\n",
    "    # !!: returns loss *before* parameters update\n",
    "    return loss_val"
   ]
  },
  {
   "cell_type": "code",
   "execution_count": 13,
   "metadata": {
    "colab": {},
    "colab_type": "code",
    "id": "Lt1muXBv9Kpn"
   },
   "outputs": [],
   "source": [
    "@add_to_class(Model)\n",
    "def fit(self, x, y_true, *, epochs=20, lr=0.1):\n",
    "\n",
    "    history = {'w': [], 'b': [], 'loss': []}\n",
    "\n",
    "    for epoch in range(epochs):\n",
    "        history['w'].append(self.w.numpy())\n",
    "        history['b'].append(self.b.numpy())\n",
    "\n",
    "        loss_val = self.fit_epoch(x, y_true, lr=lr)\n",
    "\n",
    "        loss_np = loss_val.numpy()\n",
    "        history['loss'].append(loss_np)\n",
    "        print(f\"Epoch {epoch}: loss={loss_np:.4f}\")\n",
    "    \n",
    "    history['w'].append(self.w.numpy())\n",
    "    history['b'].append(self.b.numpy())\n",
    "    loss_np = loss_fn(self.predict(x), y_true).numpy()\n",
    "    history['loss'].append(loss_np)\n",
    "    print(f\"After fitting: loss={loss_np:.4f}\")\n",
    "\n",
    "    return history"
   ]
  },
  {
   "cell_type": "code",
   "execution_count": 14,
   "metadata": {
    "colab": {},
    "colab_type": "code",
    "id": "ew2QfHFuEMjR"
   },
   "outputs": [],
   "source": [
    "EPOCHS = 20"
   ]
  },
  {
   "cell_type": "code",
   "execution_count": 15,
   "metadata": {
    "colab": {
     "base_uri": "https://localhost:8080/",
     "height": 374
    },
    "colab_type": "code",
    "executionInfo": {
     "elapsed": 3657,
     "status": "ok",
     "timestamp": 1585819640723,
     "user": {
      "displayName": "Andrei Anton",
      "photoUrl": "https://lh3.googleusercontent.com/a-/AOh14Gjbq3KjN_eAXXgUdNCh6B78VUwJtCXErh4e5nyHVA=s64",
      "userId": "02387618609628811558"
     },
     "user_tz": -180
    },
    "id": "o_OVp_6lAVQh",
    "outputId": "a43ae786-257b-4771-c186-d5200a815ef7"
   },
   "outputs": [
    {
     "name": "stdout",
     "output_type": "stream",
     "text": [
      "Epoch 0: loss=260.6725\n",
      "Epoch 1: loss=167.9701\n",
      "Epoch 2: loss=108.5255\n",
      "Epoch 3: loss=70.4068\n",
      "Epoch 4: loss=45.9630\n",
      "Epoch 5: loss=30.2881\n",
      "Epoch 6: loss=20.2363\n",
      "Epoch 7: loss=13.7904\n",
      "Epoch 8: loss=9.6568\n",
      "Epoch 9: loss=7.0060\n",
      "Epoch 10: loss=5.3060\n",
      "Epoch 11: loss=4.2158\n",
      "Epoch 12: loss=3.5167\n",
      "Epoch 13: loss=3.0683\n",
      "Epoch 14: loss=2.7808\n",
      "Epoch 15: loss=2.5964\n",
      "Epoch 16: loss=2.4781\n",
      "Epoch 17: loss=2.4023\n",
      "Epoch 18: loss=2.3536\n",
      "Epoch 19: loss=2.3224\n",
      "After fitting: loss=2.3024\n"
     ]
    }
   ],
   "source": [
    "history = model.fit(x, y, epochs=EPOCHS)"
   ]
  },
  {
   "cell_type": "code",
   "execution_count": 16,
   "metadata": {
    "colab": {
     "base_uri": "https://localhost:8080/",
     "height": 265
    },
    "colab_type": "code",
    "executionInfo": {
     "elapsed": 990,
     "status": "ok",
     "timestamp": 1585819707786,
     "user": {
      "displayName": "Andrei Anton",
      "photoUrl": "https://lh3.googleusercontent.com/a-/AOh14Gjbq3KjN_eAXXgUdNCh6B78VUwJtCXErh4e5nyHVA=s64",
      "userId": "02387618609628811558"
     },
     "user_tz": -180
    },
    "id": "dneaP0U0DR_l",
    "outputId": "ab6a1df5-c19b-407a-fd1b-be33ef94a4c1"
   },
   "outputs": [
    {
     "data": {
      "image/png": "[encoded data removed]",
      "text/plain": [
       "<Figure size 432x288 with 1 Axes>"
      ]
     },
     "metadata": {
      "needs_background": "light"
     },
     "output_type": "display_data"
    }
   ],
   "source": [
    "plt.plot(range(EPOCHS + 1), history['w'], 'b')\n",
    "plt.plot(range(EPOCHS + 1), history['b'], 'k')\n",
    "plt.hlines([TRUE_W, TRUE_B], 0, EPOCHS, ['b', 'k'], linestyles='--');"
   ]
  },
  {
   "cell_type": "code",
   "execution_count": 17,
   "metadata": {
    "colab": {
     "base_uri": "https://localhost:8080/",
     "height": 265
    },
    "colab_type": "code",
    "executionInfo": {
     "elapsed": 1200,
     "status": "ok",
     "timestamp": 1585819753732,
     "user": {
      "displayName": "Andrei Anton",
      "photoUrl": "https://lh3.googleusercontent.com/a-/AOh14Gjbq3KjN_eAXXgUdNCh6B78VUwJtCXErh4e5nyHVA=s64",
      "userId": "02387618609628811558"
     },
     "user_tz": -180
    },
    "id": "69On2MJiEItL",
    "outputId": "202dc7b7-ea74-416d-844f-534bccc8e708"
   },
   "outputs": [
    {
     "data": {
      "image/png": "[encoded data removed]",
      "text/plain": [
       "<Figure size 432x288 with 1 Axes>"
      ]
     },
     "metadata": {
      "needs_background": "light"
     },
     "output_type": "display_data"
    }
   ],
   "source": [
    "plt.scatter(x, y, label=\"true\", alpha=0.5)\n",
    "plt.scatter(x, model.predict(x), label=\"predicted\", alpha=0.5);"
   ]
  },
  {
   "cell_type": "markdown",
   "metadata": {
    "colab": {},
    "colab_type": "code",
    "id": "3TBwY1NsOOOu"
   },
   "source": [
    "# TF-Hub basics"
   ]
  },
  {
   "cell_type": "code",
   "execution_count": null,
   "metadata": {},
   "outputs": [],
   "source": []
  }
 ],
 "metadata": {
  "colab": {
   "authorship_tag": "ABX9TyNvIGI9ADmAJX+8v3BPhlV9",
   "collapsed_sections": [],
   "name": "tf2-and-keras-intro.ipynb",
   "provenance": [],
   "toc_visible": true
  },
  "kernelspec": {
   "display_name": "anaconda-base",
   "language": "python",
   "name": "anaconda-base"
  },
  "language_info": {
   "codemirror_mode": {
    "name": "ipython",
    "version": 3
   },
   "file_extension": ".py",
   "mimetype": "text/x-python",
   "name": "python",
   "nbconvert_exporter": "python",
   "pygments_lexer": "ipython3",
   "version": "3.7.6"
  }
 },
 "nbformat": 4,
 "nbformat_minor": 4
}

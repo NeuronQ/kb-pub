{
 "cells": [
  {
   "cell_type": "markdown",
   "metadata": {
    "colab_type": "text",
    "id": "I2rIjpZiD26S"
   },
   "source": [
    "# SKLearn Intro\n",
    "\n",
    "Read https://scikit-learn.org/stable/getting_started.html **fully** first of all!"
   ]
  },
  {
   "cell_type": "markdown",
   "metadata": {
    "colab_type": "text",
    "id": "Gj2-K7QvD8oT"
   },
   "source": [
    "## Environment / imports"
   ]
  },
  {
   "cell_type": "code",
   "execution_count": 25,
   "metadata": {
    "colab": {
     "base_uri": "https://localhost:8080/",
     "height": 51
    },
    "colab_type": "code",
    "executionInfo": {
     "elapsed": 4169,
     "status": "ok",
     "timestamp": 1585150574071,
     "user": {
      "displayName": "Andrei Anton",
      "photoUrl": "https://lh3.googleusercontent.com/a-/AOh14Gjbq3KjN_eAXXgUdNCh6B78VUwJtCXErh4e5nyHVA=s64",
      "userId": "02387618609628811558"
     },
     "user_tz": -120
    },
    "id": "wE2LcwWjDkqc",
    "outputId": "05389c52-2475-4940-e9a9-69cdc2fed326"
   },
   "outputs": [
    {
     "name": "stdout",
     "output_type": "stream",
     "text": [
      "Python 3.6.9\n",
      "scikit-learn==0.22.2.post1\n"
     ]
    }
   ],
   "source": [
    "! python -V\n",
    "! pip freeze | grep -i scikit-learn"
   ]
  },
  {
   "cell_type": "code",
   "execution_count": 1,
   "metadata": {
    "colab": {},
    "colab_type": "code",
    "id": "-btLnkpsDpso"
   },
   "outputs": [],
   "source": [
    "from IPython.display import display\n",
    "import numpy as np\n",
    "import matplotlib.pyplot as plt\n",
    "import pandas as pd\n",
    "import sklearn"
   ]
  },
  {
   "cell_type": "markdown",
   "metadata": {
    "colab_type": "text",
    "id": "J_Sub7w3VTkE"
   },
   "source": [
    "## Big picture"
   ]
  },
  {
   "cell_type": "markdown",
   "metadata": {
    "colab_type": "text",
    "id": "9ayUpsx1VTkE"
   },
   "source": [
    "### General Classes & Interfaces architecture\n",
    "\n",
    "The `scikit-learn` library has a unified interface for all \"models\". It uses the very broad concept of **estimator** to roughly mean:\n",
    "- a thing that takes some input data\n",
    "- ...outputs some data\n",
    "- ...has some internal parameters.\n",
    "\n",
    "An **estimator** is simply defined as having methods to set and get its internal parameters.\n",
    "\n",
    "So seemingly unrelated concepts can all be unified under the umbrella term \"estimator\":\n",
    "- **feature transformers / encoders:** these can be used to transfer either *input data* or *training labels data* (this dual use explains some of the awkward weird interfaces of things like `OneHotEncoder`), and in general they can also performa the inverse transform\n",
    "    - these have `fit`, `transform` and `inverse_transform` methods (also combined `fit_transform` for convenience/performance reasons)\n",
    "- **feature scalers**\n",
    "    - similar methods to transformers/encoders defined above, they have `fit`, `transform` and `inverse_transform` methods\n",
    "- **classifiers** - supervised learning models for performing classification (eg. \"predict the class of an input\")\n",
    "    - these have `fit` and `predict` methods\n",
    "- **regressors** - supervised learning models for performing regression (eg. \"predict a continuous value\")\n",
    "    - similarly, `fit` and `predict` methods\n",
    "- **clusterers** - unsupervised learning models for performing clusterin\n",
    "    - `fit`, `predit` and `fit_predict` (since it's an unsupervised learning task) methods \n",
    "    - also `transform` ± `fit_transform` for some clusterers, since they are usable for transforming eg. X into a different space, that of distances to cluster centers\n",
    "    \n",
    "The general idea though, is that `scikit-learn` does not provide these componets as *\"black boxes\"* - one needs to actually sit and read the docs of each in order to correctly use them, since all these methods can take in extra params and sometimes have different requirements for the types and shapes of their inputs.\n",
    "\n",
    "The \"loose standardization\" serves the purpose of makind these encoders/transformers/models [**composable into pipelines**](https://scikit-learn.org/stable/modules/compose.html), not of hiding / abstracting away the implementation details. So don't view them as \"leaky abstraction\", but as \"simplest/minimal amount of structure that enables easy composability and extension\". *Adopting this mindset will save you from tons of frustration! If you are a \"professinal software engineer\", don't look at the abstractions in `scikit-learn` and other ML libraries as serving similar purpose to the abstractions in a large software system - they are NOT, they are intended for solving a different set of problems!*\n",
    "\n",
    "```python\n",
    "## NOTE: this *PSEUDOCODE*, *NOT Python code!*\n",
    "\n",
    "# NOTATION:\n",
    "#    ~x: type and shape similar to x\n",
    "\n",
    "# base \"models\" class\n",
    "class BaseEstimator:\n",
    "    get_params(deep=True) -> dict\n",
    "    set_params(**params) -> self\n",
    "\n",
    "# Pre-processing - Encoding\n",
    "class *Encoder(BaseEstimator):\n",
    "\tfit(data: array~[n_samples], ...) -> self\n",
    "\ttransform(data) -> ~data\n",
    "\tfit_transform(data, ...) -> ~data\n",
    "\t± inverse_transform(data) -> ~data\n",
    "\n",
    "# Pre-processing - Scaling\n",
    "class *Scaler(BaseEstimator):\n",
    "\tfit(X, y=None, ...) -> self\n",
    "\tpartial_fit(X, y=None) -> self\n",
    "\ttransform(X, y='deprecated', copy=None) -> ~X\n",
    "\tfit_transform(X, y=None, ...) -> ~X\n",
    "\tinverse_transform(X, copy=None) -> ~X\n",
    "\n",
    "# Unsupervised Learning - Classification\n",
    "class *Classifier(...BaseEstimator):\n",
    "\tfit(X, y=None, ...) -> self\n",
    "\tpredict(X) -> ~y\n",
    "\tscore(X, y, ...)\n",
    "\n",
    "# Supervised Learning - Regression\n",
    "class *Regressor(...BaseEstimator):\n",
    "\tfit(X, y, ...) -> self\n",
    "\tpredict(X) -> ~y\n",
    "\tscore(X, y, ...) -> *\n",
    "\n",
    "# Unsupervised Learning - Clustering\n",
    "class *Cluster(...BaseEstimator):\n",
    "\tfit(X, y=None, ...) -> self\n",
    "\tpredict(X) -> ~y\n",
    "\tfit_predict(X, y=None, ...) -> ~y\n",
    "```"
   ]
  },
  {
   "cell_type": "markdown",
   "metadata": {
    "colab_type": "text",
    "id": "LiqZ8yFEVTkG"
   },
   "source": [
    "### Concepts\n",
    "\n",
    "The ideas of \"transductive\" and \"inductive\" sound a bit esoteric, but they offer a good insight to some of the reasoning behing the library's architecture. Understanding what the words mean *will make reading the docs easier, so do take 5 min to do this!*\n",
    "\n",
    "- **Transduction, Transductive**: A transductive (contrasted with inductive) machine learning method is designed to model a specific dataset, but not to apply that model to unseen data. Examples include manifold.TSNE, cluster.AgglomerativeClustering and neighbors.LocalOutlierFactor.\n",
    "  - A purely transductive transformer, such as manifold.TSNE, may not implement `transform`, but only `fit_transform`\n",
    "  - Unsupervised, transductive estimator implement `fit_predict`\n",
    "- **Inductive** (contrasted with transductive): this type of machine learning builds a model of some data that can then be applied to new instances. Most estimators in Scikit-learn are inductive, having predict and/or transform methods.\n",
    "  - implement `fit` and `predit` ± `transform`\n",
    "  \n",
    "Any other concepts used a lot in the docs are really well and succinctly explained in the docs. They're denser and faster to read than eg. the wikipedia pages for this concepts, so *make use of this when confused about a term:*\n",
    "- https://scikit-learn.org/stable/glossary.html"
   ]
  },
  {
   "cell_type": "markdown",
   "metadata": {
    "colab_type": "text",
    "id": "K2JQIcDXI17s"
   },
   "source": [
    "## Pre-processing\n",
    "\n",
    "https://scikit-learn.org/stable/modules/preprocessing.html"
   ]
  },
  {
   "cell_type": "markdown",
   "metadata": {
    "colab_type": "text",
    "id": "9V5CKnSpI_Ev"
   },
   "source": [
    "### Encoding - label / categorical data as numbers"
   ]
  },
  {
   "cell_type": "markdown",
   "metadata": {
    "colab_type": "text",
    "id": "WIgq86gAVTkJ"
   },
   "source": [
    "**Alternative 1:** for `y` data you'll likely want to use `sklearn.preprocessing.LabelEncoder`"
   ]
  },
  {
   "cell_type": "code",
   "execution_count": null,
   "metadata": {
    "colab": {},
    "colab_type": "code",
    "id": "ZL-yItOuFDzN"
   },
   "outputs": [],
   "source": [
    "from sklearn.preprocessing import LabelEncoder"
   ]
  },
  {
   "cell_type": "code",
   "execution_count": null,
   "metadata": {
    "colab": {},
    "colab_type": "code",
    "id": "75IZIh1iFsMP"
   },
   "outputs": [],
   "source": [
    "health_train = ['fit', 'slim', 'obese', 'fit', 'slim']\n",
    "health_test1 = ['obese', 'obese', 'fit', 'slim']\n",
    "health_test2 = ['obese', None, 'obese', 'fit', 'humungous', 'slim']\n",
    "health_test3 = ['obese', 'obese', 'fit', 'humungous', 'slim']"
   ]
  },
  {
   "cell_type": "code",
   "execution_count": 29,
   "metadata": {
    "colab": {
     "base_uri": "https://localhost:8080/",
     "height": 34
    },
    "colab_type": "code",
    "executionInfo": {
     "elapsed": 4147,
     "status": "ok",
     "timestamp": 1585150574076,
     "user": {
      "displayName": "Andrei Anton",
      "photoUrl": "https://lh3.googleusercontent.com/a-/AOh14Gjbq3KjN_eAXXgUdNCh6B78VUwJtCXErh4e5nyHVA=s64",
      "userId": "02387618609628811558"
     },
     "user_tz": -120
    },
    "id": "SDooidb_FzKC",
    "outputId": "f7fbb47b-84e0-445a-d598-b10a5b540ab5"
   },
   "outputs": [
    {
     "data": {
      "text/plain": [
       "array([0, 2, 1, 0, 2])"
      ]
     },
     "execution_count": 29,
     "metadata": {
      "tags": []
     },
     "output_type": "execute_result"
    }
   ],
   "source": [
    "label_encoder = LabelEncoder()\n",
    "label_encoder.fit(health_train)\n",
    "label_encoder.transform(health_train)"
   ]
  },
  {
   "cell_type": "code",
   "execution_count": 30,
   "metadata": {
    "colab": {
     "base_uri": "https://localhost:8080/",
     "height": 34
    },
    "colab_type": "code",
    "executionInfo": {
     "elapsed": 4141,
     "status": "ok",
     "timestamp": 1585150574077,
     "user": {
      "displayName": "Andrei Anton",
      "photoUrl": "https://lh3.googleusercontent.com/a-/AOh14Gjbq3KjN_eAXXgUdNCh6B78VUwJtCXErh4e5nyHVA=s64",
      "userId": "02387618609628811558"
     },
     "user_tz": -120
    },
    "id": "GgekbNWCGHOq",
    "outputId": "606518ef-a3b6-49ae-8620-d13498d60147"
   },
   "outputs": [
    {
     "data": {
      "text/plain": [
       "array([1, 1, 0, 2])"
      ]
     },
     "execution_count": 30,
     "metadata": {
      "tags": []
     },
     "output_type": "execute_result"
    }
   ],
   "source": [
    "label_encoder.transform(health_test1)"
   ]
  },
  {
   "cell_type": "code",
   "execution_count": null,
   "metadata": {
    "colab": {},
    "colab_type": "code",
    "id": "klK7rJD1GVNc"
   },
   "outputs": [],
   "source": [
    "# throw error\n",
    "# label_encoder.transform(health_test2)\n",
    "# label_encoder.transform(health_test3)"
   ]
  },
  {
   "cell_type": "markdown",
   "metadata": {
    "colab_type": "text",
    "id": "1OzxJEODVTkZ"
   },
   "source": [
    "**Alternative 2:** for `X` data prefer `sklearn.preprocessing.OrdinalEncoder`"
   ]
  },
  {
   "cell_type": "code",
   "execution_count": 32,
   "metadata": {
    "colab": {
     "base_uri": "https://localhost:8080/",
     "height": 68
    },
    "colab_type": "code",
    "executionInfo": {
     "elapsed": 4131,
     "status": "ok",
     "timestamp": 1585150574078,
     "user": {
      "displayName": "Andrei Anton",
      "photoUrl": "https://lh3.googleusercontent.com/a-/AOh14Gjbq3KjN_eAXXgUdNCh6B78VUwJtCXErh4e5nyHVA=s64",
      "userId": "02387618609628811558"
     },
     "user_tz": -120
    },
    "id": "FZNbqs2QVTka",
    "outputId": "d2d574df-e26d-451f-c77a-e85173b1b4e1"
   },
   "outputs": [
    {
     "name": "stdout",
     "output_type": "stream",
     "text": [
      "> X transformed: [[1. 1. 1.]\n",
      " [0. 0. 0.]]\n"
     ]
    },
    {
     "data": {
      "text/plain": [
       "array([[0., 1., 1.]])"
      ]
     },
     "execution_count": 32,
     "metadata": {
      "tags": []
     },
     "output_type": "execute_result"
    }
   ],
   "source": [
    "from sklearn.preprocessing import OrdinalEncoder\n",
    "\n",
    "enc = OrdinalEncoder()\n",
    "X = [['male', 'from US', 'uses Safari'], ['female', 'from Europe', 'uses Firefox']]\n",
    "enc.fit(X)\n",
    "print(\"> X transformed:\", enc.transform(X))\n",
    "\n",
    "enc.transform([['female', 'from US', 'uses Safari']])"
   ]
  },
  {
   "cell_type": "markdown",
   "metadata": {
    "colab_type": "text",
    "id": "j8IpptAVJS6D"
   },
   "source": [
    "### Encoding - 1-hot\n",
    "NOTE: This encoder expects an actual 2D numpy array (matrix)"
   ]
  },
  {
   "cell_type": "markdown",
   "metadata": {
    "colab_type": "text",
    "id": "HagKy4_pVTkd"
   },
   "source": [
    "**Alternative 1:** `sklearn.preprocessing.LabelBinarizer` works as intuitively expected and it sort of assumes it will be used on `y` data."
   ]
  },
  {
   "cell_type": "code",
   "execution_count": null,
   "metadata": {
    "colab": {},
    "colab_type": "code",
    "id": "QfWN4BITVTke"
   },
   "outputs": [],
   "source": [
    "from sklearn.preprocessing import LabelBinarizer"
   ]
  },
  {
   "cell_type": "code",
   "execution_count": 34,
   "metadata": {
    "colab": {
     "base_uri": "https://localhost:8080/",
     "height": 102
    },
    "colab_type": "code",
    "executionInfo": {
     "elapsed": 4119,
     "status": "ok",
     "timestamp": 1585150574079,
     "user": {
      "displayName": "Andrei Anton",
      "photoUrl": "https://lh3.googleusercontent.com/a-/AOh14Gjbq3KjN_eAXXgUdNCh6B78VUwJtCXErh4e5nyHVA=s64",
      "userId": "02387618609628811558"
     },
     "user_tz": -120
    },
    "id": "RYcAn6wbVTkh",
    "outputId": "8f016995-a12a-4fc0-b0f1-fa8eafe73e47"
   },
   "outputs": [
    {
     "data": {
      "text/plain": [
       "array([[1, 0, 0],\n",
       "       [0, 0, 1],\n",
       "       [0, 1, 0],\n",
       "       [1, 0, 0],\n",
       "       [0, 0, 1]])"
      ]
     },
     "execution_count": 34,
     "metadata": {
      "tags": []
     },
     "output_type": "execute_result"
    }
   ],
   "source": [
    "label_binarizer = LabelBinarizer()\n",
    "label_binarizer.fit_transform(health_train)"
   ]
  },
  {
   "cell_type": "code",
   "execution_count": 35,
   "metadata": {
    "colab": {
     "base_uri": "https://localhost:8080/",
     "height": 85
    },
    "colab_type": "code",
    "executionInfo": {
     "elapsed": 4111,
     "status": "ok",
     "timestamp": 1585150574079,
     "user": {
      "displayName": "Andrei Anton",
      "photoUrl": "https://lh3.googleusercontent.com/a-/AOh14Gjbq3KjN_eAXXgUdNCh6B78VUwJtCXErh4e5nyHVA=s64",
      "userId": "02387618609628811558"
     },
     "user_tz": -120
    },
    "id": "sm6jNNzTVTkj",
    "outputId": "7c135e5c-4224-497d-8d93-d8adc5094dd8"
   },
   "outputs": [
    {
     "data": {
      "text/plain": [
       "array([[0, 1, 0],\n",
       "       [0, 1, 0],\n",
       "       [1, 0, 0],\n",
       "       [0, 0, 1]])"
      ]
     },
     "execution_count": 35,
     "metadata": {
      "tags": []
     },
     "output_type": "execute_result"
    }
   ],
   "source": [
    "label_binarizer.transform(health_test1)"
   ]
  },
  {
   "cell_type": "code",
   "execution_count": 36,
   "metadata": {
    "colab": {
     "base_uri": "https://localhost:8080/",
     "height": 102
    },
    "colab_type": "code",
    "executionInfo": {
     "elapsed": 4104,
     "status": "ok",
     "timestamp": 1585150574079,
     "user": {
      "displayName": "Andrei Anton",
      "photoUrl": "https://lh3.googleusercontent.com/a-/AOh14Gjbq3KjN_eAXXgUdNCh6B78VUwJtCXErh4e5nyHVA=s64",
      "userId": "02387618609628811558"
     },
     "user_tz": -120
    },
    "id": "yiq_vIa4VTkm",
    "outputId": "1090c32b-89c9-4fd5-9acf-0c56f2730891"
   },
   "outputs": [
    {
     "data": {
      "text/plain": [
       "array([[0, 1, 0],\n",
       "       [0, 1, 0],\n",
       "       [1, 0, 0],\n",
       "       [0, 0, 0],\n",
       "       [0, 0, 1]])"
      ]
     },
     "execution_count": 36,
     "metadata": {
      "tags": []
     },
     "output_type": "execute_result"
    }
   ],
   "source": [
    "# works, despite unseen label \"humungios\" (just encodes it to all zeroes)\n",
    "label_binarizer.transform(health_test3)"
   ]
  },
  {
   "cell_type": "code",
   "execution_count": null,
   "metadata": {
    "colab": {},
    "colab_type": "code",
    "id": "d4Yim-TQVTkp"
   },
   "outputs": [],
   "source": [
    "# throws error bc. of None label\n",
    "# label_binarizer.transform(health_test2)"
   ]
  },
  {
   "cell_type": "markdown",
   "metadata": {
    "colab_type": "text",
    "id": "DjWzpkQOVTkr"
   },
   "source": [
    "**Alternative 2:** `sklearn.preprocessing.OneHotEncoder` is quite fussy about its input, but it's intended to be used on `X` data so it behaves as expected for this case.\n",
    "\n",
    "**WARNING:** The part of the `preprocessing` module relevant to this change quite a bit between `scikit-learn` versions, eg. see:\n",
    "- https://scikit-learn.org/0.19/modules/preprocessing.html\n",
    "- vs. https://scikit-learn.org/0.22/modules/preprocessing.html"
   ]
  },
  {
   "cell_type": "code",
   "execution_count": 38,
   "metadata": {
    "colab": {
     "base_uri": "https://localhost:8080/",
     "height": 34
    },
    "colab_type": "code",
    "executionInfo": {
     "elapsed": 4092,
     "status": "ok",
     "timestamp": 1585150574080,
     "user": {
      "displayName": "Andrei Anton",
      "photoUrl": "https://lh3.googleusercontent.com/a-/AOh14Gjbq3KjN_eAXXgUdNCh6B78VUwJtCXErh4e5nyHVA=s64",
      "userId": "02387618609628811558"
     },
     "user_tz": -120
    },
    "id": "RDBt3DT3VTks",
    "outputId": "17c2f95f-829b-4860-a939-475756093d89"
   },
   "outputs": [
    {
     "data": {
      "text/plain": [
       "(0, 22)"
      ]
     },
     "execution_count": 38,
     "metadata": {
      "tags": []
     },
     "output_type": "execute_result"
    }
   ],
   "source": [
    "sklearn_version = tuple(map(int, sklearn.__version__.split('.')[:2]))\n",
    "sklearn_version"
   ]
  },
  {
   "cell_type": "code",
   "execution_count": 39,
   "metadata": {
    "colab": {
     "base_uri": "https://localhost:8080/",
     "height": 136
    },
    "colab_type": "code",
    "executionInfo": {
     "elapsed": 4085,
     "status": "ok",
     "timestamp": 1585150574080,
     "user": {
      "displayName": "Andrei Anton",
      "photoUrl": "https://lh3.googleusercontent.com/a-/AOh14Gjbq3KjN_eAXXgUdNCh6B78VUwJtCXErh4e5nyHVA=s64",
      "userId": "02387618609628811558"
     },
     "user_tz": -120
    },
    "id": "DpvTbhWeVTku",
    "outputId": "c712c653-3e07-4dde-85a1-4d1251e88d64"
   },
   "outputs": [
    {
     "name": "stdout",
     "output_type": "stream",
     "text": [
      "--- new-ish scikit-learn >= 0.22\n",
      "> OHE result:\n"
     ]
    },
    {
     "data": {
      "text/plain": [
       "array([[1., 0., 0.],\n",
       "       [0., 0., 1.],\n",
       "       [0., 1., 0.],\n",
       "       [1., 0., 0.],\n",
       "       [0., 0., 1.]])"
      ]
     },
     "metadata": {
      "tags": []
     },
     "output_type": "display_data"
    }
   ],
   "source": [
    "if sklearn_version <= (0, 19):\n",
    "    # --- For scikit-learn 0.19 and maybe lower:\n",
    "    # In these older versions OneHotEncoder can't directly work with non-numerical data,\n",
    "    # so we need to numericalize it first.\n",
    "    print(\"--- old scikit-learn <= 0.19\")\n",
    "    \n",
    "    from sklearn.preprocessing import LabelEncoder, OneHotEncoder\n",
    "\n",
    "    label_encoder2 = LabelEncoder()\n",
    "\n",
    "    health_train_num = label_encoder2.fit_transform(health_train)\n",
    "    print(\"> health_train_num:\")\n",
    "    display(health_train_num)\n",
    "\n",
    "    oh_encoder = OneHotEncoder()\n",
    "    # .reshape(-1, 1) is needed to transform a 1d array in 2d one as OneHotEncoder expects\n",
    "    r = oh_encoder.fit_transform(health_train_num.reshape(-1, 1)) # : scipy.sparse.csr.csr_matrix\n",
    "    print(\"> OHE result:\")\n",
    "    display(r.toarray())\n",
    "\n",
    "elif sklearn_version >= (0, 22):\n",
    "    # --- For scikit-learn 0.22 and above:\n",
    "    print(\"--- new-ish scikit-learn >= 0.22\")\n",
    "    \n",
    "    from sklearn.preprocessing import OneHotEncoder\n",
    "\n",
    "    oh_encoder = OneHotEncoder()\n",
    "    # .reshape(-1, 1) is needed to transform a 1d array in 2d one as OneHotEncoder expects\n",
    "    r = oh_encoder.fit_transform(np.array(health_train).reshape(-1, 1)) # : scipy.sparse.csr.csr_matrix\n",
    "    print(\"> OHE result:\")\n",
    "    display(r.toarray())\n",
    "\n",
    "else:\n",
    "    print(\"--- scikit-learn > 0.19 and < 0.22: NO IDEA WHAT WORKS HERE!\")"
   ]
  },
  {
   "cell_type": "code",
   "execution_count": null,
   "metadata": {
    "colab": {},
    "colab_type": "code",
    "id": "ssNOPLUaIsVG"
   },
   "outputs": [],
   "source": [
    "### Scaling - normalization"
   ]
  },
  {
   "cell_type": "code",
   "execution_count": 41,
   "metadata": {
    "colab": {
     "base_uri": "https://localhost:8080/",
     "height": 153
    },
    "colab_type": "code",
    "executionInfo": {
     "elapsed": 4075,
     "status": "ok",
     "timestamp": 1585150574082,
     "user": {
      "displayName": "Andrei Anton",
      "photoUrl": "https://lh3.googleusercontent.com/a-/AOh14Gjbq3KjN_eAXXgUdNCh6B78VUwJtCXErh4e5nyHVA=s64",
      "userId": "02387618609628811558"
     },
     "user_tz": -120
    },
    "id": "mDzp82QVVTky",
    "outputId": "6aa76c9c-4481-4dd8-9506-0cd3370d5e5a"
   },
   "outputs": [
    {
     "name": "stdout",
     "output_type": "stream",
     "text": [
      "Scaler fitted params: mean=[0.5 0.5], scale=[0.5 0.5]\n",
      "> transformed data:\n"
     ]
    },
    {
     "data": {
      "text/plain": [
       "array([[-1., -1.],\n",
       "       [-1., -1.],\n",
       "       [ 1.,  1.],\n",
       "       [ 1.,  1.]])"
      ]
     },
     "metadata": {
      "tags": []
     },
     "output_type": "display_data"
    },
    {
     "name": "stdout",
     "output_type": "stream",
     "text": [
      "> transformed [[2, 2]]:\n"
     ]
    },
    {
     "data": {
      "text/plain": [
       "array([[3., 3.]])"
      ]
     },
     "metadata": {
      "tags": []
     },
     "output_type": "display_data"
    }
   ],
   "source": [
    "from sklearn.preprocessing import StandardScaler\n",
    "\n",
    "data = [[0, 0], [0, 0], [1, 1], [1, 1]]\n",
    "\n",
    "scaler = StandardScaler()\n",
    "scaler.fit(data)\n",
    "\n",
    "print(f\"Scaler fitted params: mean={scaler.mean_}, scale={scaler.scale_}\")\n",
    "\n",
    "print(\"> transformed data:\")\n",
    "display(scaler.transform(data))\n",
    "\n",
    "print(\"> transformed [[2, 2]]:\")\n",
    "display(scaler.transform([[2, 2]]))"
   ]
  },
  {
   "cell_type": "markdown",
   "metadata": {
    "colab_type": "text",
    "id": "zYfug2pqVTk1"
   },
   "source": [
    "### ColumnTransformer for heterogeneous data\n",
    "https://scikit-learn.org/stable/modules/compose.html#columntransformer-for-heterogeneous-data"
   ]
  },
  {
   "cell_type": "code",
   "execution_count": 42,
   "metadata": {
    "colab": {
     "base_uri": "https://localhost:8080/",
     "height": 173
    },
    "colab_type": "code",
    "executionInfo": {
     "elapsed": 4069,
     "status": "ok",
     "timestamp": 1585150574083,
     "user": {
      "displayName": "Andrei Anton",
      "photoUrl": "https://lh3.googleusercontent.com/a-/AOh14Gjbq3KjN_eAXXgUdNCh6B78VUwJtCXErh4e5nyHVA=s64",
      "userId": "02387618609628811558"
     },
     "user_tz": -120
    },
    "id": "n1uyzb44VTk1",
    "outputId": "685cb410-d731-44fe-e3da-3e7c75c819fe"
   },
   "outputs": [
    {
     "data": {
      "text/html": [
       "<div>\n",
       "<style scoped>\n",
       "    .dataframe tbody tr th:only-of-type {\n",
       "        vertical-align: middle;\n",
       "    }\n",
       "\n",
       "    .dataframe tbody tr th {\n",
       "        vertical-align: top;\n",
       "    }\n",
       "\n",
       "    .dataframe thead th {\n",
       "        text-align: right;\n",
       "    }\n",
       "</style>\n",
       "<table border=\"1\" class=\"dataframe\">\n",
       "  <thead>\n",
       "    <tr style=\"text-align: right;\">\n",
       "      <th></th>\n",
       "      <th>city</th>\n",
       "      <th>title</th>\n",
       "      <th>expert_rating</th>\n",
       "      <th>user_rating</th>\n",
       "    </tr>\n",
       "  </thead>\n",
       "  <tbody>\n",
       "    <tr>\n",
       "      <th>0</th>\n",
       "      <td>London</td>\n",
       "      <td>His Last Bow</td>\n",
       "      <td>5</td>\n",
       "      <td>4</td>\n",
       "    </tr>\n",
       "    <tr>\n",
       "      <th>1</th>\n",
       "      <td>London</td>\n",
       "      <td>How the Watson Learned the Trick</td>\n",
       "      <td>3</td>\n",
       "      <td>5</td>\n",
       "    </tr>\n",
       "    <tr>\n",
       "      <th>2</th>\n",
       "      <td>Paris</td>\n",
       "      <td>A Moveable Feast</td>\n",
       "      <td>4</td>\n",
       "      <td>4</td>\n",
       "    </tr>\n",
       "    <tr>\n",
       "      <th>3</th>\n",
       "      <td>Sallisaw</td>\n",
       "      <td>The Grapes of Wrath</td>\n",
       "      <td>5</td>\n",
       "      <td>3</td>\n",
       "    </tr>\n",
       "  </tbody>\n",
       "</table>\n",
       "</div>"
      ],
      "text/plain": [
       "       city                             title  expert_rating  user_rating\n",
       "0    London                      His Last Bow              5            4\n",
       "1    London  How the Watson Learned the Trick              3            5\n",
       "2     Paris                  A Moveable Feast              4            4\n",
       "3  Sallisaw               The Grapes of Wrath              5            3"
      ]
     },
     "execution_count": 42,
     "metadata": {
      "tags": []
     },
     "output_type": "execute_result"
    }
   ],
   "source": [
    "X = pd.DataFrame(\n",
    "    {'city': ['London', 'London', 'Paris', 'Sallisaw'],\n",
    "     'title': [\"His Last Bow\", \"How the Watson Learned the Trick\",\n",
    "               \"A Moveable Feast\", \"The Grapes of Wrath\"],\n",
    "     'expert_rating': [5, 3, 4, 5],\n",
    "     'user_rating': [4, 5, 4, 3]})\n",
    "X"
   ]
  },
  {
   "cell_type": "code",
   "execution_count": 43,
   "metadata": {
    "colab": {
     "base_uri": "https://localhost:8080/",
     "height": 122
    },
    "colab_type": "code",
    "executionInfo": {
     "elapsed": 4366,
     "status": "ok",
     "timestamp": 1585150574387,
     "user": {
      "displayName": "Andrei Anton",
      "photoUrl": "https://lh3.googleusercontent.com/a-/AOh14Gjbq3KjN_eAXXgUdNCh6B78VUwJtCXErh4e5nyHVA=s64",
      "userId": "02387618609628811558"
     },
     "user_tz": -120
    },
    "id": "zE0R1cBkVTk4",
    "outputId": "fab819bd-3399-4447-e746-7f45f0c0d495"
   },
   "outputs": [
    {
     "name": "stdout",
     "output_type": "stream",
     "text": [
      "> feature names: ['city_category__x0_London', 'city_category__x0_Paris', 'city_category__x0_Sallisaw', 'title_bow__bow', 'title_bow__feast', 'title_bow__grapes', 'title_bow__his', 'title_bow__how', 'title_bow__last', 'title_bow__learned', 'title_bow__moveable', 'title_bow__of', 'title_bow__the', 'title_bow__trick', 'title_bow__watson', 'title_bow__wrath']\n"
     ]
    },
    {
     "data": {
      "text/plain": [
       "array([[1, 0, 0, 1, 0, 0, 1, 0, 1, 0, 0, 0, 0, 0, 0, 0],\n",
       "       [1, 0, 0, 0, 0, 0, 0, 1, 0, 1, 0, 0, 2, 1, 1, 0],\n",
       "       [0, 1, 0, 0, 1, 0, 0, 0, 0, 0, 1, 0, 0, 0, 0, 0],\n",
       "       [0, 0, 1, 0, 0, 1, 0, 0, 0, 0, 0, 1, 1, 0, 0, 1]], dtype=int64)"
      ]
     },
     "execution_count": 43,
     "metadata": {
      "tags": []
     },
     "output_type": "execute_result"
    }
   ],
   "source": [
    "from sklearn.compose import ColumnTransformer\n",
    "from sklearn.feature_extraction.text import CountVectorizer\n",
    "from sklearn.preprocessing import OneHotEncoder\n",
    "\n",
    "column_trans = ColumnTransformer(\n",
    "    [('city_category', OneHotEncoder(dtype='int'),['city']),\n",
    "     ('title_bow', CountVectorizer(), 'title')],\n",
    "    remainder='drop')\n",
    "\n",
    "column_trans.fit(X)\n",
    "\n",
    "print(\"> feature names:\", column_trans.get_feature_names())\n",
    "\n",
    "column_trans.transform(X).toarray()"
   ]
  },
  {
   "cell_type": "markdown",
   "metadata": {
    "colab_type": "text",
    "id": "g3I-KHNgVTk6",
    "toc-hr-collapsed": true,
    "toc-nb-collapsed": true
   },
   "source": [
    "## Classification\n",
    "https://scikit-learn.org/stable/supervised_learning.html#supervised-learning"
   ]
  },
  {
   "cell_type": "markdown",
   "metadata": {
    "colab_type": "text",
    "id": "hyh759H4VTk7"
   },
   "source": [
    "Classification example dataset - iris\n",
    "- https://scikit-learn.org/stable/datasets/index.html#iris-plants-dataset\n",
    "- https://scikit-learn.org/stable/auto_examples/datasets/plot_iris_dataset.html"
   ]
  },
  {
   "cell_type": "code",
   "execution_count": 44,
   "metadata": {
    "colab": {
     "base_uri": "https://localhost:8080/",
     "height": 68
    },
    "colab_type": "code",
    "executionInfo": {
     "elapsed": 4358,
     "status": "ok",
     "timestamp": 1585150574387,
     "user": {
      "displayName": "Andrei Anton",
      "photoUrl": "https://lh3.googleusercontent.com/a-/AOh14Gjbq3KjN_eAXXgUdNCh6B78VUwJtCXErh4e5nyHVA=s64",
      "userId": "02387618609628811558"
     },
     "user_tz": -120
    },
    "id": "dHfic8PVVTk7",
    "outputId": "8f945f16-0420-4ee0-feda-89a14c35a806"
   },
   "outputs": [
    {
     "name": "stdout",
     "output_type": "stream",
     "text": [
      "iris_X ~ (150, 4), iris_y ~ (150,)\n",
      "iris_X_train ~ (120, 4), iris_y_train ~ (120,)\n",
      "iris_X_test ~ (30, 4), iris_y_test ~ (30,)\n"
     ]
    }
   ],
   "source": [
    "from sklearn.datasets import load_iris\n",
    "from sklearn.model_selection import train_test_split\n",
    "\n",
    "iris_X, iris_y = load_iris(return_X_y=True)\n",
    "iris_X_train, iris_X_test, iris_y_train, iris_y_test = \\\n",
    "    train_test_split(iris_X, iris_y, random_state=1, test_size=0.2)\n",
    "\n",
    "print(f\"iris_X ~ {iris_X.shape}, iris_y ~ {iris_y.shape}\")\n",
    "print(f\"iris_X_train ~ {iris_X_train.shape}, iris_y_train ~ {iris_y_train.shape}\")\n",
    "print(f\"iris_X_test ~ {iris_X_test.shape}, iris_y_test ~ {iris_y_test.shape}\")"
   ]
  },
  {
   "cell_type": "markdown",
   "metadata": {
    "colab_type": "text",
    "id": "T1wqLv3OVTk-"
   },
   "source": [
    "Example: SVM model (SVC aka \"Support Vector Classifier\")"
   ]
  },
  {
   "cell_type": "code",
   "execution_count": 45,
   "metadata": {
    "colab": {
     "base_uri": "https://localhost:8080/",
     "height": 51
    },
    "colab_type": "code",
    "executionInfo": {
     "elapsed": 4348,
     "status": "ok",
     "timestamp": 1585150574388,
     "user": {
      "displayName": "Andrei Anton",
      "photoUrl": "https://lh3.googleusercontent.com/a-/AOh14Gjbq3KjN_eAXXgUdNCh6B78VUwJtCXErh4e5nyHVA=s64",
      "userId": "02387618609628811558"
     },
     "user_tz": -120
    },
    "id": "Qj6ehv7RVTk-",
    "outputId": "36fb9904-d638-470e-e402-ca9a63ce6934"
   },
   "outputs": [
    {
     "name": "stdout",
     "output_type": "stream",
     "text": [
      "> accuracy on training data: 0.975\n",
      "> accuracy on test data: 0.9666666666666667\n"
     ]
    }
   ],
   "source": [
    "from sklearn.svm import SVC\n",
    "from sklearn.metrics import accuracy_score\n",
    "\n",
    "svc = SVC()\n",
    "svc.fit(iris_X_train, iris_y_train)\n",
    "\n",
    "iris_y_train_predicted = svc.predict(iris_X_train)\n",
    "print(\"> accuracy on training data:\", accuracy_score(iris_y_train, iris_y_train_predicted))\n",
    "\n",
    "iris_y_test_predicted = svc.predict(iris_X_test)\n",
    "print(\"> accuracy on test data:\", accuracy_score(iris_y_test, iris_y_test_predicted))\n",
    "\n",
    "# NOTE: you CAN also get betteer accurracy on test than on training with this dataset\n",
    "#    if you play around with this code. Reason is simply that dataset is very small,\n",
    "#    and you can occassionally get an easy/lucky test set. Use larger datasets!"
   ]
  },
  {
   "cell_type": "markdown",
   "metadata": {
    "colab_type": "text",
    "id": "sZGorFwGVTlB"
   },
   "source": [
    "## Regression\n",
    "https://scikit-learn.org/stable/supervised_learning.html#supervised-learning"
   ]
  },
  {
   "cell_type": "markdown",
   "metadata": {
    "colab_type": "text",
    "id": "DMpj77QxVTlB"
   },
   "source": [
    "Regression example dataset - boston housing \n",
    "- https://scikit-learn.org/stable/datasets/index.html#boston-dataset"
   ]
  },
  {
   "cell_type": "code",
   "execution_count": 46,
   "metadata": {
    "colab": {
     "base_uri": "https://localhost:8080/",
     "height": 68
    },
    "colab_type": "code",
    "executionInfo": {
     "elapsed": 4340,
     "status": "ok",
     "timestamp": 1585150574388,
     "user": {
      "displayName": "Andrei Anton",
      "photoUrl": "https://lh3.googleusercontent.com/a-/AOh14Gjbq3KjN_eAXXgUdNCh6B78VUwJtCXErh4e5nyHVA=s64",
      "userId": "02387618609628811558"
     },
     "user_tz": -120
    },
    "id": "3OmZ-oVOVTlC",
    "outputId": "fd6f8b0d-b339-4a5f-a90c-8ce66f1dc125"
   },
   "outputs": [
    {
     "name": "stdout",
     "output_type": "stream",
     "text": [
      "bh_X ~ (506, 13), bh_y ~ (506,)\n",
      "bh_X_train ~ (404, 13), bh_y_train ~ (404,)\n",
      "bh_X_test ~ (102, 13), bh_y_test ~ (102,)\n"
     ]
    }
   ],
   "source": [
    "from sklearn.datasets import load_boston\n",
    "from sklearn.model_selection import train_test_split\n",
    "\n",
    "bh_X, bh_y = load_boston(return_X_y=True)\n",
    "bh_X_train, bh_X_test, bh_y_train, bh_y_test = \\\n",
    "    train_test_split(bh_X, bh_y, random_state=1, test_size=0.2)\n",
    "\n",
    "print(f\"bh_X ~ {bh_X.shape}, bh_y ~ {bh_y.shape}\")\n",
    "print(f\"bh_X_train ~ {bh_X_train.shape}, bh_y_train ~ {bh_y_train.shape}\")\n",
    "print(f\"bh_X_test ~ {bh_X_test.shape}, bh_y_test ~ {bh_y_test.shape}\")"
   ]
  },
  {
   "cell_type": "code",
   "execution_count": 47,
   "metadata": {
    "colab": {
     "base_uri": "https://localhost:8080/",
     "height": 51
    },
    "colab_type": "code",
    "executionInfo": {
     "elapsed": 4333,
     "status": "ok",
     "timestamp": 1585150574389,
     "user": {
      "displayName": "Andrei Anton",
      "photoUrl": "https://lh3.googleusercontent.com/a-/AOh14Gjbq3KjN_eAXXgUdNCh6B78VUwJtCXErh4e5nyHVA=s64",
      "userId": "02387618609628811558"
     },
     "user_tz": -120
    },
    "id": "i5PYKnEPVTlE",
    "outputId": "fc5ef356-c730-417f-d5f6-e57d9ed97de0"
   },
   "outputs": [
    {
     "name": "stdout",
     "output_type": "stream",
     "text": [
      "> MSE on test data: 63.110980896358605\n",
      "> MSE on test data: 80.88313574924172\n"
     ]
    }
   ],
   "source": [
    "from sklearn.metrics import mean_squared_error\n",
    "from sklearn.svm import SVR\n",
    "\n",
    "svr = SVR()\n",
    "svr.fit(bh_X_train, bh_y_train)\n",
    "\n",
    "bh_y_train_predicted = svr.predict(bh_X_train)\n",
    "print(\"> MSE on test data:\", mean_squared_error(bh_y_train, bh_y_train_predicted))\n",
    "\n",
    "bh_y_test_predicted = svr.predict(bh_X_test)\n",
    "print(\"> MSE on test data:\", mean_squared_error(bh_y_test, bh_y_test_predicted))"
   ]
  },
  {
   "cell_type": "markdown",
   "metadata": {
    "colab_type": "text",
    "id": "p7m1ASSQVTlH"
   },
   "source": [
    "## Clustering\n",
    "https://scikit-learn.org/stable/modules/clustering.html#clustering"
   ]
  },
  {
   "cell_type": "code",
   "execution_count": 48,
   "metadata": {
    "colab": {
     "base_uri": "https://localhost:8080/",
     "height": 596
    },
    "colab_type": "code",
    "executionInfo": {
     "elapsed": 5053,
     "status": "ok",
     "timestamp": 1585150575116,
     "user": {
      "displayName": "Andrei Anton",
      "photoUrl": "https://lh3.googleusercontent.com/a-/AOh14Gjbq3KjN_eAXXgUdNCh6B78VUwJtCXErh4e5nyHVA=s64",
      "userId": "02387618609628811558"
     },
     "user_tz": -120
    },
    "id": "McAIacgqVTlI",
    "outputId": "bcde2d28-ec13-424e-8f67-e826dba8dde1"
   },
   "outputs": [
    {
     "name": "stdout",
     "output_type": "stream",
     "text": [
      "> iris.data ~ (150, 4)\n",
      "> iris.target ~ (150,)\n",
      "> X_reduced ~ (150, 2)\n"
     ]
    },
    {
     "data": {
      "image/png": "[encoded data removed]",
      "text/plain": [
       "<Figure size 432x288 with 1 Axes>"
      ]
     },
     "metadata": {
      "tags": []
     },
     "output_type": "display_data"
    },
    {
     "data": {
      "image/png": "[encoded data removed]",
      "text/plain": [
       "<Figure size 432x288 with 1 Axes>"
      ]
     },
     "metadata": {
      "tags": []
     },
     "output_type": "display_data"
    }
   ],
   "source": [
    "from sklearn.cluster import KMeans\n",
    "from sklearn.datasets import load_iris\n",
    "from sklearn.decomposition import PCA\n",
    "\n",
    "iris = load_iris()\n",
    "print(\"> iris.data ~\", iris.data.shape)\n",
    "print(\"> iris.target ~\", iris.target.shape)\n",
    "\n",
    "kmeans = KMeans(n_clusters=3, random_state=0)\n",
    "kmeans.fit(iris.data)\n",
    "\n",
    "# we do PCA to reduce from 4d to 2d for vizualization\n",
    "X_reduced = PCA(n_components=2).fit_transform(iris.data)\n",
    "print(\"> X_reduced ~\", X_reduced.shape)\n",
    "\n",
    "plt.title(\"Actual classes\")\n",
    "plt.scatter(\n",
    "    X_reduced[:, 0], X_reduced[:, 1],\n",
    "    c=iris.target,\n",
    "    cmap=plt.cm.Set1,\n",
    "    edgecolor='k'\n",
    ")\n",
    "plt.show()\n",
    "plt.title(\"K-means clusters (k=3)\")\n",
    "plt.scatter(\n",
    "    X_reduced[:, 0], X_reduced[:, 1],\n",
    "    c=kmeans.labels_,\n",
    "    cmap=plt.cm.Set1,\n",
    "    edgecolor='k'\n",
    ")\n",
    "plt.show()"
   ]
  },
  {
   "cell_type": "markdown",
   "metadata": {
    "colab_type": "text",
    "id": "TDsDVtq2VTlK"
   },
   "source": [
    "## Pipelines\n",
    "- https://scikit-learn.org/stable/getting_started.html#pipelines-chaining-pre-processors-and-estimators\n",
    "- https://scikit-learn.org/stable/modules/compose.html#pipeline-chaining-estimators"
   ]
  },
  {
   "cell_type": "markdown",
   "metadata": {
    "colab_type": "text",
    "id": "r0QDu8SiVTlL"
   },
   "source": [
    "Why:\n",
    "1. easier to structure your code in readable and extensible ways\n",
    "2. prevent you from accidentally contaminating your model with infos from test data (eg. when doing cross validation, by doing it on a pipeline that includes a scaler, instead of doing the scaling on all data first and then cross-validating the model, training data handling is not influenced by properties like mean and variance of thee whole-dataset-including-test)"
   ]
  },
  {
   "cell_type": "code",
   "execution_count": 49,
   "metadata": {
    "colab": {
     "base_uri": "https://localhost:8080/",
     "height": 51
    },
    "colab_type": "code",
    "executionInfo": {
     "elapsed": 5047,
     "status": "ok",
     "timestamp": 1585150575117,
     "user": {
      "displayName": "Andrei Anton",
      "photoUrl": "https://lh3.googleusercontent.com/a-/AOh14Gjbq3KjN_eAXXgUdNCh6B78VUwJtCXErh4e5nyHVA=s64",
      "userId": "02387618609628811558"
     },
     "user_tz": -120
    },
    "id": "dyr-V2J5VTlM",
    "outputId": "421862f4-44ac-4373-e1e6-57fc8caa605f"
   },
   "outputs": [
    {
     "name": "stdout",
     "output_type": "stream",
     "text": [
      "> accuracy on training data: 1.0\n",
      "> accuracy on test data: 0.9666666666666667\n"
     ]
    }
   ],
   "source": [
    "from sklearn.preprocessing import StandardScaler\n",
    "from sklearn.ensemble import RandomForestClassifier\n",
    "from sklearn.pipeline import make_pipeline\n",
    "from sklearn.datasets import load_iris\n",
    "from sklearn.model_selection import train_test_split\n",
    "from sklearn.metrics import accuracy_score\n",
    "\n",
    "# create a pipeline object\n",
    "pipe = make_pipeline(\n",
    "    StandardScaler(),\n",
    "    RandomForestClassifier(random_state=42)\n",
    ")\n",
    "\n",
    "# load the iris dataset and split it into train and test sets\n",
    "iris_X, iris_y = load_iris(return_X_y=True)\n",
    "iris_X_train, iris_X_test, iris_y_train, iris_y_test = \\\n",
    "    train_test_split(iris_X, iris_y, random_state=1, test_size=0.2)\n",
    "\n",
    "# fit the whole pipeline\n",
    "pipe.fit(iris_X_train, iris_y_train)\n",
    "\n",
    "iris_y_train_predicted = pipe.predict(iris_X_train)\n",
    "print(\"> accuracy on training data:\", accuracy_score(iris_y_train, iris_y_train_predicted))\n",
    "\n",
    "iris_y_test_predicted = pipe.predict(iris_X_test)\n",
    "print(\"> accuracy on test data:\", accuracy_score(iris_y_test, iris_y_test_predicted))"
   ]
  },
  {
   "cell_type": "markdown",
   "metadata": {
    "colab_type": "text",
    "id": "q10Qb2rRVTlO"
   },
   "source": [
    "## Model selection and evaluation\n",
    "https://scikit-learn.org/stable/model_selection.html#model-selection"
   ]
  },
  {
   "cell_type": "markdown",
   "metadata": {
    "colab_type": "text",
    "id": "nPp7t661VTlP"
   },
   "source": [
    "### Hyper-parameters tuning - randomized search"
   ]
  },
  {
   "cell_type": "code",
   "execution_count": 50,
   "metadata": {
    "colab": {
     "base_uri": "https://localhost:8080/",
     "height": 68
    },
    "colab_type": "code",
    "executionInfo": {
     "elapsed": 5257,
     "status": "ok",
     "timestamp": 1585150575332,
     "user": {
      "displayName": "Andrei Anton",
      "photoUrl": "https://lh3.googleusercontent.com/a-/AOh14Gjbq3KjN_eAXXgUdNCh6B78VUwJtCXErh4e5nyHVA=s64",
      "userId": "02387618609628811558"
     },
     "user_tz": -120
    },
    "id": "hBJHu7BHVTlQ",
    "outputId": "aec23383-dc49-4cfd-af9e-75bcebb0cf95"
   },
   "outputs": [
    {
     "name": "stdout",
     "output_type": "stream",
     "text": [
      "> searchCV best params: {'rfc__max_depth': 9, 'rfc__n_estimators': 4}\n",
      "> accuracy on training data: 0.975\n",
      "> accuracy on test data: 0.9666666666666667\n"
     ]
    }
   ],
   "source": [
    "from sklearn.preprocessing import StandardScaler\n",
    "from sklearn.ensemble import RandomForestClassifier\n",
    "from sklearn.pipeline import Pipeline\n",
    "from sklearn.datasets import load_iris\n",
    "from sklearn.model_selection import train_test_split\n",
    "from sklearn.metrics import accuracy_score\n",
    "from sklearn.model_selection import RandomizedSearchCV\n",
    "from scipy.stats import randint\n",
    "\n",
    "# load the iris dataset and split it into train and test sets\n",
    "iris_X, iris_y = load_iris(return_X_y=True)\n",
    "iris_X_train, iris_X_test, iris_y_train, iris_y_test = \\\n",
    "    train_test_split(iris_X, iris_y, random_state=1, test_size=0.2)\n",
    "\n",
    "# create a pipeline object\n",
    "pipe = Pipeline([\n",
    "    ('scaler', StandardScaler()),\n",
    "    ('rfc', RandomForestClassifier(random_state=42)),\n",
    "])\n",
    "\n",
    "# define the parameter space that will be searched over\n",
    "param_distributions = {'rfc__n_estimators': randint(1, 5),\n",
    "                       'rfc__max_depth': randint(5, 10)}\n",
    "\n",
    "# now create a searchCV object and fit it to the data\n",
    "# (this will behave like the estimator (model or pipeline) it wraps)\n",
    "search = RandomizedSearchCV(estimator=pipe,\n",
    "                            n_iter=5,\n",
    "                            param_distributions=param_distributions,\n",
    "                            random_state=0)\n",
    "\n",
    "# fit the whole pipeline\n",
    "search.fit(iris_X_train, iris_y_train)\n",
    "\n",
    "print(\"> searchCV best params:\", search.best_params_)\n",
    "\n",
    "iris_y_train_predicted = search.predict(iris_X_train)\n",
    "print(\"> accuracy on training data:\", accuracy_score(iris_y_train, iris_y_train_predicted))\n",
    "\n",
    "iris_y_test_predicted = search.predict(iris_X_test)\n",
    "print(\"> accuracy on test data:\", accuracy_score(iris_y_test, iris_y_test_predicted))"
   ]
  },
  {
   "cell_type": "code",
   "execution_count": null,
   "metadata": {
    "colab": {},
    "colab_type": "code",
    "id": "wJIzsQ-eVTlS"
   },
   "outputs": [],
   "source": []
  }
 ],
 "metadata": {
  "colab": {
   "collapsed_sections": [],
   "name": "sklearn-intro.ipynb",
   "provenance": []
  },
  "kernelspec": {
   "display_name": "Python 3",
   "language": "python",
   "name": "python3"
  },
  "language_info": {
   "codemirror_mode": {
    "name": "ipython",
    "version": 3
   },
   "file_extension": ".py",
   "mimetype": "text/x-python",
   "name": "python",
   "nbconvert_exporter": "python",
   "pygments_lexer": "ipython3",
   "version": "3.7.2"
  },
  "toc-autonumbering": true,
  "toc-showcode": false,
  "toc-showmarkdowntxt": false,
  "toc-showtags": false
 },
 "nbformat": 4,
 "nbformat_minor": 4
}
